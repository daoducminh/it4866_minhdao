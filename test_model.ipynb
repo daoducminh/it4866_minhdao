{
 "cells": [
  {
   "cell_type": "markdown",
   "metadata": {},
   "source": [
    "# Evaluating trained model with large dataset"
   ]
  },
  {
   "cell_type": "markdown",
   "metadata": {},
   "source": [
    "## Preparation"
   ]
  },
  {
   "cell_type": "markdown",
   "metadata": {},
   "source": [
    "### Importing libraries"
   ]
  },
  {
   "cell_type": "code",
   "execution_count": 1,
   "metadata": {},
   "outputs": [],
   "source": [
    "import os\n",
    "import sys\n",
    "import time\n",
    "\n",
    "import cv2\n",
    "import matplotlib.pyplot as plt\n",
    "import numpy as np\n",
    "import PIL.Image\n",
    "from imutils import paths\n",
    "from sklearn.preprocessing import LabelBinarizer\n",
    "from tensorflow.keras.models import load_model\n",
    "\n",
    "%matplotlib inline"
   ]
  },
  {
   "cell_type": "markdown",
   "metadata": {},
   "source": [
    "### Image conversion functions"
   ]
  },
  {
   "cell_type": "code",
   "execution_count": 2,
   "metadata": {},
   "outputs": [],
   "source": [
    "def png_to_jpeg(png_file, jpeg_file):\n",
    "    \"\"\"\n",
    "    Convert PNG images to JPEG format\n",
    "    :param png_file: full path of .png file\n",
    "    :param jpeg_file: full path of .jpeg file\n",
    "    \"\"\"\n",
    "    im = PIL.Image.open(png_file)\n",
    "    rgb_im = im.convert('RGB')\n",
    "    rgb_im.save(jpeg_file, 'JPEG')\n",
    "    \n",
    "def convert_images(folder):\n",
    "    jpeg_dir = folder + '/jpeg'\n",
    "\n",
    "    if not os.path.exists(jpeg_dir):\n",
    "        os.makedirs(jpeg_dir)\n",
    "    image_paths = list(paths.list_images(folder))\n",
    "\n",
    "    for image_path in image_paths:\n",
    "        # if image_path.split('.')[-1].lower() == 'png':\n",
    "        jpeg_image_path = image_path.replace(\n",
    "            os.path.dirname(image_path),\n",
    "            jpeg_dir\n",
    "        )\n",
    "        jpeg_image_path = jpeg_image_path.replace('.png', '.jpg')\n",
    "        # convert images to jpeg if they don't already exist\n",
    "        if not os.path.isfile(jpeg_image_path):\n",
    "            png_to_jpeg(image_path, jpeg_image_path)"
   ]
  },
  {
   "cell_type": "markdown",
   "metadata": {},
   "source": [
    "### Converting images to `jpeg`"
   ]
  },
  {
   "cell_type": "code",
   "execution_count": 3,
   "metadata": {},
   "outputs": [],
   "source": [
    "light_colors = ['Green', 'Red', 'Yellow', 'Unknown']\n",
    "folder = 'data/test_images/{}'\n",
    "\n",
    "for color in light_colors:\n",
    "    convert_images(folder.format(color))"
   ]
  },
  {
   "cell_type": "markdown",
   "metadata": {},
   "source": [
    "### Loading dataset"
   ]
  },
  {
   "cell_type": "code",
   "execution_count": 4,
   "metadata": {},
   "outputs": [],
   "source": [
    "num_classes = 4\n",
    "WIDTH = 100\n",
    "HEIGHT = 100\n",
    "image_folders = 'data/test_images/{}/jpeg/'\n",
    "\n",
    "data = []\n",
    "labels = []\n",
    "\n",
    "for color in light_colors:\n",
    "    imagePaths = list(paths.list_images(image_folders.format(color)))\n",
    "\n",
    "    for imagePath in imagePaths:\n",
    "        image = cv2.imread(imagePath, -1)\n",
    "        image = cv2.resize(image, (HEIGHT, WIDTH))\n",
    "        image = np.reshape(image, (HEIGHT, WIDTH, 3))\n",
    "\n",
    "        data.append(image)\n",
    "        labels.append(color)\n",
    "\n",
    "data = np.array(data, dtype='float') / 255.0\n",
    "labels = np.array(labels)"
   ]
  },
  {
   "cell_type": "markdown",
   "metadata": {},
   "source": [
    "### Reformat labels"
   ]
  },
  {
   "cell_type": "code",
   "execution_count": 5,
   "metadata": {},
   "outputs": [],
   "source": [
    "lb = LabelBinarizer()\n",
    "labels = lb.fit_transform(labels)"
   ]
  },
  {
   "cell_type": "markdown",
   "metadata": {},
   "source": [
    "## Evaluating model"
   ]
  },
  {
   "cell_type": "markdown",
   "metadata": {},
   "source": [
    "### Loading model"
   ]
  },
  {
   "cell_type": "code",
   "execution_count": 14,
   "metadata": {},
   "outputs": [],
   "source": [
    "model = load_model('saved_model/trained_cnn')"
   ]
  },
  {
   "cell_type": "markdown",
   "metadata": {},
   "source": [
    "### Evaluating dataset"
   ]
  },
  {
   "cell_type": "code",
   "execution_count": 15,
   "metadata": {},
   "outputs": [
    {
     "name": "stdout",
     "output_type": "stream",
     "text": [
      "141/141 - 20s - loss: 3.6550 - accuracy: 0.7273\n",
      "0.7272727489471436 3.6550066471099854\n"
     ]
    }
   ],
   "source": [
    "test_loss, test_acc = model.evaluate(data,  labels, verbose=2)\n",
    "print(test_acc, test_loss)"
   ]
  }
 ],
 "metadata": {
  "kernelspec": {
   "display_name": "Python 3",
   "language": "python",
   "name": "python3"
  },
  "language_info": {
   "codemirror_mode": {
    "name": "ipython",
    "version": 3
   },
   "file_extension": ".py",
   "mimetype": "text/x-python",
   "name": "python",
   "nbconvert_exporter": "python",
   "pygments_lexer": "ipython3",
   "version": "3.6.9"
  }
 },
 "nbformat": 4,
 "nbformat_minor": 4
}
