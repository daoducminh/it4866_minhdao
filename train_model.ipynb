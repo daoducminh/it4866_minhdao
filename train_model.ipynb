{
 "cells": [
  {
   "cell_type": "markdown",
   "metadata": {
    "colab_type": "text",
    "id": "f1zCHszFht8i"
   },
   "source": [
    "# Traffic Light Classification"
   ]
  },
  {
   "cell_type": "markdown",
   "metadata": {
    "colab_type": "text",
    "id": "Jd6XDE8Kg1dG"
   },
   "source": [
    "## Preparation"
   ]
  },
  {
   "cell_type": "markdown",
   "metadata": {
    "colab_type": "text",
    "id": "j_miEqPshrHS"
   },
   "source": [
    "### Mounting Google Drive"
   ]
  },
  {
   "cell_type": "code",
   "execution_count": 1,
   "metadata": {
    "colab": {
     "base_uri": "https://localhost:8080/",
     "height": 124
    },
    "colab_type": "code",
    "executionInfo": {
     "elapsed": 17113,
     "status": "ok",
     "timestamp": 1591523025433,
     "user": {
      "displayName": "Minh Đào Đức",
      "photoUrl": "",
      "userId": "06873477703686048140"
     },
     "user_tz": -420
    },
    "id": "vSySoVpw131t",
    "outputId": "f91057a5-7453-468f-88b9-78ed2811092f"
   },
   "outputs": [],
   "source": [
    "# from google.colab import drive\n",
    "# drive.mount('/gdrive')"
   ]
  },
  {
   "cell_type": "markdown",
   "metadata": {
    "colab_type": "text",
    "id": "sugwXdCW908y"
   },
   "source": [
    "### Downloading dataset and extracting"
   ]
  },
  {
   "cell_type": "code",
   "execution_count": 2,
   "metadata": {
    "colab": {
     "base_uri": "https://localhost:8080/",
     "height": 347
    },
    "colab_type": "code",
    "executionInfo": {
     "elapsed": 42312,
     "status": "ok",
     "timestamp": 1591523050648,
     "user": {
      "displayName": "Minh Đào Đức",
      "photoUrl": "",
      "userId": "06873477703686048140"
     },
     "user_tz": -420
    },
    "id": "RfRPaaFd2ETg",
    "outputId": "bd5b5cbf-cee9-42d1-d9be-ee0f0e4ee8c2"
   },
   "outputs": [],
   "source": [
    "# %cp /gdrive/My\\ Drive/Datasets/alex* /content/\n",
    "# !7z x -oudacity alex-lechner-udacity-traffic-light-dataset.zip\n",
    "# %rm alex-lechner-udacity-traffic-light-dataset.zip"
   ]
  },
  {
   "cell_type": "markdown",
   "metadata": {
    "colab_type": "text",
    "id": "oeYSWz6mhVLw"
   },
   "source": [
    "## Classifying Traffic Light using CNN"
   ]
  },
  {
   "cell_type": "markdown",
   "metadata": {
    "colab_type": "text",
    "id": "oK--hh89h85V"
   },
   "source": [
    "### Importing libraries"
   ]
  },
  {
   "cell_type": "code",
   "execution_count": 3,
   "metadata": {
    "colab": {},
    "colab_type": "code",
    "id": "blz1qPotFIE0"
   },
   "outputs": [],
   "source": [
    "import os\n",
    "import sys\n",
    "import time\n",
    "\n",
    "import cv2\n",
    "import matplotlib.pyplot as plt\n",
    "import numpy as np\n",
    "import PIL.Image\n",
    "import tensorflow.keras as keras\n",
    "from imutils import paths\n",
    "from lxml import etree\n",
    "from sklearn.metrics import classification_report\n",
    "from sklearn.model_selection import train_test_split\n",
    "from sklearn.preprocessing import LabelBinarizer\n",
    "from tensorflow.keras.layers import Conv2D, Dense, Dropout, Flatten, MaxPooling2D\n",
    "from tensorflow.keras.losses import CategoricalCrossentropy\n",
    "from tensorflow.keras.models import Sequential, load_model\n",
    "\n",
    "%matplotlib inline"
   ]
  },
  {
   "cell_type": "markdown",
   "metadata": {
    "colab_type": "text",
    "id": "30ApiGUXlHLQ"
   },
   "source": [
    "### Preprocessing dataset"
   ]
  },
  {
   "cell_type": "markdown",
   "metadata": {},
   "source": [
    "#### Conversion function definition"
   ]
  },
  {
   "cell_type": "code",
   "execution_count": 4,
   "metadata": {},
   "outputs": [],
   "source": [
    "def png_to_jpeg(png_file, jpeg_file):\n",
    "    \"\"\"\n",
    "    Convert PNG images to JPEG format\n",
    "    :param png_file: full path of .png file\n",
    "    :param jpeg_file: full path of .jpeg file\n",
    "    \"\"\"\n",
    "    im = PIL.Image.open(png_file)\n",
    "    rgb_im = im.convert('RGB')\n",
    "    rgb_im.save(jpeg_file, 'JPEG')\n",
    "    \n",
    "def convert_images(folder):\n",
    "    jpeg_dir = folder + '/jpeg'\n",
    "\n",
    "    if not os.path.exists(jpeg_dir):\n",
    "        os.makedirs(jpeg_dir)\n",
    "    image_paths = list(paths.list_images(folder))\n",
    "\n",
    "    for image_path in image_paths:\n",
    "        # if image_path.split('.')[-1].lower() == 'png':\n",
    "        jpeg_image_path = image_path.replace(\n",
    "            os.path.dirname(image_path),\n",
    "            jpeg_dir\n",
    "        )\n",
    "        jpeg_image_path = jpeg_image_path.replace('.png', '.jpg')\n",
    "        # convert images to jpeg if they don't already exist\n",
    "        if not os.path.isfile(jpeg_image_path):\n",
    "            png_to_jpeg(image_path, jpeg_image_path)"
   ]
  },
  {
   "cell_type": "markdown",
   "metadata": {},
   "source": [
    "#### Converting images"
   ]
  },
  {
   "cell_type": "code",
   "execution_count": 5,
   "metadata": {},
   "outputs": [],
   "source": [
    "folder = 'data/udacity/simulator_dataset_rgb/Unknown'\n",
    "convert_images(folder)"
   ]
  },
  {
   "cell_type": "markdown",
   "metadata": {},
   "source": [
    "#### Loading images and labels"
   ]
  },
  {
   "cell_type": "code",
   "execution_count": 6,
   "metadata": {
    "colab": {},
    "colab_type": "code",
    "id": "sINTb9_1ls6Y"
   },
   "outputs": [],
   "source": [
    "num_classes = 4\n",
    "WIDTH = 100\n",
    "HEIGHT = 100\n",
    "light_colors = ['Green', 'Red', 'Yellow', 'Unknown']\n",
    "\n",
    "image_folders = 'data/udacity/simulator_dataset_rgb/{}/jpeg/'\n",
    "\n",
    "data = []\n",
    "labels = []\n",
    "\n",
    "for color in light_colors:\n",
    "    imagePaths = list(paths.list_images(image_folders.format(color)))\n",
    "\n",
    "    for imagePath in imagePaths:\n",
    "        image = cv2.imread(imagePath, -1)\n",
    "        image = cv2.resize(image, (HEIGHT, WIDTH))\n",
    "        image = np.reshape(image, (HEIGHT, WIDTH, 3))\n",
    "\n",
    "        data.append(image)\n",
    "        labels.append(color)\n",
    "\n",
    "data = np.array(data, dtype='float') / 255.0\n",
    "labels = np.array(labels)"
   ]
  },
  {
   "cell_type": "markdown",
   "metadata": {
    "colab_type": "text",
    "id": "7VxevhAboWdS"
   },
   "source": [
    "### Split test-train"
   ]
  },
  {
   "cell_type": "code",
   "execution_count": 7,
   "metadata": {
    "colab": {},
    "colab_type": "code",
    "id": "GujLtYsZocV_"
   },
   "outputs": [],
   "source": [
    "(train_images, test_images, train_labels, test_labels) = train_test_split(data, labels, test_size=0.2)"
   ]
  },
  {
   "cell_type": "markdown",
   "metadata": {},
   "source": [
    "### Reformat labels"
   ]
  },
  {
   "cell_type": "code",
   "execution_count": null,
   "metadata": {},
   "outputs": [],
   "source": [
    "lb = LabelBinarizer()\n",
    "train_labels = lb.fit_transform(train_labels)\n",
    "test_labels = lb.transform(test_labels)"
   ]
  },
  {
   "cell_type": "markdown",
   "metadata": {
    "colab_type": "text",
    "id": "b_scXWqps2lE"
   },
   "source": [
    "### Creating the model"
   ]
  },
  {
   "cell_type": "code",
   "execution_count": 26,
   "metadata": {
    "colab": {},
    "colab_type": "code",
    "id": "SlryHj2y7IsV"
   },
   "outputs": [],
   "source": [
    "model = Sequential()\n",
    "\n",
    "model.add(Conv2D(32, (3, 3), activation='relu', input_shape=(HEIGHT, WIDTH, 3)))\n",
    "model.add(Conv2D(64, (3, 3), activation='relu'))\n",
    "model.add(MaxPooling2D((2, 2)))\n",
    "model.add(Conv2D(64, (3, 3), activation='relu'))\n",
    "model.add(MaxPooling2D((2, 2)))\n",
    "model.add(Conv2D(64, (3, 3), activation='relu'))\n",
    "model.add(Conv2D(64, (3, 3), activation='relu'))\n",
    "model.add(MaxPooling2D((2, 2)))\n",
    "model.add(Conv2D(64, (3, 3), activation='relu'))\n",
    "model.add(Conv2D(64, (3, 3), activation='relu'))\n",
    "\n",
    "model.add(Flatten())\n",
    "model.add(Dense(64, activation='relu'))\n",
    "model.add(Dense(units=num_classes, activation='softmax'))\n",
    "\n",
    "model.compile(\n",
    "    optimizer='adam',\n",
    "    loss=CategoricalCrossentropy(),\n",
    "    metrics=['accuracy']\n",
    ")"
   ]
  },
  {
   "cell_type": "code",
   "execution_count": 27,
   "metadata": {},
   "outputs": [
    {
     "name": "stdout",
     "output_type": "stream",
     "text": [
      "Model: \"sequential_3\"\n",
      "_________________________________________________________________\n",
      "Layer (type)                 Output Shape              Param #   \n",
      "=================================================================\n",
      "conv2d_11 (Conv2D)           (None, 98, 98, 32)        896       \n",
      "_________________________________________________________________\n",
      "conv2d_12 (Conv2D)           (None, 96, 96, 64)        18496     \n",
      "_________________________________________________________________\n",
      "max_pooling2d_6 (MaxPooling2 (None, 48, 48, 64)        0         \n",
      "_________________________________________________________________\n",
      "conv2d_13 (Conv2D)           (None, 46, 46, 64)        36928     \n",
      "_________________________________________________________________\n",
      "max_pooling2d_7 (MaxPooling2 (None, 23, 23, 64)        0         \n",
      "_________________________________________________________________\n",
      "conv2d_14 (Conv2D)           (None, 21, 21, 64)        36928     \n",
      "_________________________________________________________________\n",
      "conv2d_15 (Conv2D)           (None, 19, 19, 64)        36928     \n",
      "_________________________________________________________________\n",
      "max_pooling2d_8 (MaxPooling2 (None, 9, 9, 64)          0         \n",
      "_________________________________________________________________\n",
      "conv2d_16 (Conv2D)           (None, 7, 7, 64)          36928     \n",
      "_________________________________________________________________\n",
      "conv2d_17 (Conv2D)           (None, 5, 5, 64)          36928     \n",
      "_________________________________________________________________\n",
      "flatten_3 (Flatten)          (None, 1600)              0         \n",
      "_________________________________________________________________\n",
      "dense_6 (Dense)              (None, 64)                102464    \n",
      "_________________________________________________________________\n",
      "dense_7 (Dense)              (None, 4)                 260       \n",
      "=================================================================\n",
      "Total params: 306,756\n",
      "Trainable params: 306,756\n",
      "Non-trainable params: 0\n",
      "_________________________________________________________________\n"
     ]
    }
   ],
   "source": [
    "model.summary()"
   ]
  },
  {
   "cell_type": "markdown",
   "metadata": {
    "colab_type": "text",
    "id": "m1P_aM7ptLvJ"
   },
   "source": [
    "### Compiling the model and training"
   ]
  },
  {
   "cell_type": "code",
   "execution_count": 33,
   "metadata": {
    "colab": {},
    "colab_type": "code",
    "id": "ZWNb53gytFac"
   },
   "outputs": [
    {
     "name": "stdout",
     "output_type": "stream",
     "text": [
      "Epoch 1/10\n",
      "33/33 - 20s - loss: 0.0570 - accuracy: 0.9771 - val_loss: 0.3074 - val_accuracy: 0.9389\n",
      "Epoch 2/10\n",
      "33/33 - 21s - loss: 0.0365 - accuracy: 0.9838 - val_loss: 0.4047 - val_accuracy: 0.9237\n",
      "Epoch 3/10\n",
      "33/33 - 21s - loss: 0.0453 - accuracy: 0.9819 - val_loss: 0.4077 - val_accuracy: 0.9351\n",
      "Epoch 4/10\n",
      "33/33 - 20s - loss: 0.0420 - accuracy: 0.9828 - val_loss: 0.3633 - val_accuracy: 0.9389\n",
      "Epoch 5/10\n",
      "33/33 - 21s - loss: 0.0405 - accuracy: 0.9876 - val_loss: 0.4345 - val_accuracy: 0.9389\n",
      "Epoch 6/10\n",
      "33/33 - 22s - loss: 0.0356 - accuracy: 0.9885 - val_loss: 0.3766 - val_accuracy: 0.9504\n",
      "Epoch 7/10\n",
      "33/33 - 21s - loss: 0.0208 - accuracy: 0.9904 - val_loss: 0.4639 - val_accuracy: 0.9427\n",
      "Epoch 8/10\n",
      "33/33 - 22s - loss: 0.0376 - accuracy: 0.9838 - val_loss: 0.4730 - val_accuracy: 0.9504\n",
      "Epoch 9/10\n",
      "33/33 - 21s - loss: 0.0408 - accuracy: 0.9857 - val_loss: 0.4560 - val_accuracy: 0.9466\n",
      "Epoch 10/10\n",
      "33/33 - 21s - loss: 0.0244 - accuracy: 0.9876 - val_loss: 0.5254 - val_accuracy: 0.9351\n",
      "Training time: 216.7721652984619\n"
     ]
    }
   ],
   "source": [
    "time_start = time.time()\n",
    "history = model.fit(\n",
    "    train_images,\n",
    "    train_labels,\n",
    "    epochs=10,\n",
    "    validation_data=(test_images, test_labels),\n",
    "    verbose=2\n",
    ")\n",
    "time_end = time.time()\n",
    "print('Training time:', time_end - time_start)"
   ]
  },
  {
   "cell_type": "markdown",
   "metadata": {
    "colab_type": "text",
    "id": "eC1JwVohtTcL"
   },
   "source": [
    "### Evaluating the model"
   ]
  },
  {
   "cell_type": "code",
   "execution_count": 34,
   "metadata": {
    "colab": {},
    "colab_type": "code",
    "id": "-ULlOUNj7QMb"
   },
   "outputs": [
    {
     "name": "stdout",
     "output_type": "stream",
     "text": [
      "9/9 - 1s - loss: 0.5254 - accuracy: 0.9351\n"
     ]
    },
    {
     "data": {
      "image/png": "[encoded data removed]",
      "text/plain": [
       "<Figure size 432x288 with 1 Axes>"
      ]
     },
     "metadata": {
      "needs_background": "light"
     },
     "output_type": "display_data"
    }
   ],
   "source": [
    "plt.plot(history.history['accuracy'], label='accuracy')\n",
    "plt.plot(history.history['val_accuracy'], label='val_accuracy')\n",
    "plt.xlabel('Epoch')\n",
    "plt.ylabel('Accuracy')\n",
    "plt.ylim([0.5, 1])\n",
    "plt.legend(loc='lower right')\n",
    "test_loss, test_acc = model.evaluate(test_images,  test_labels, verbose=2)"
   ]
  },
  {
   "cell_type": "code",
   "execution_count": 35,
   "metadata": {
    "colab": {},
    "colab_type": "code",
    "id": "EmcOaZNj7ewt"
   },
   "outputs": [
    {
     "name": "stdout",
     "output_type": "stream",
     "text": [
      "0.9351145029067993 0.5254457592964172\n"
     ]
    }
   ],
   "source": [
    "print(test_acc, test_loss)"
   ]
  },
  {
   "cell_type": "markdown",
   "metadata": {},
   "source": [
    "### Saving trained model"
   ]
  },
  {
   "cell_type": "code",
   "execution_count": 36,
   "metadata": {},
   "outputs": [
    {
     "name": "stdout",
     "output_type": "stream",
     "text": [
      "INFO:tensorflow:Assets written to: saved_model/trained_cnn/assets\n"
     ]
    }
   ],
   "source": [
    "!rm -rf saved_model/trained_cnn/\n",
    "model.save('saved_model/trained_cnn')"
   ]
  }
 ],
 "metadata": {
  "colab": {
   "authorship_tag": "ABX9TyNlgSNq8hESRw1elpVDtvY7",
   "collapsed_sections": [],
   "name": "it4866.ipynb",
   "provenance": [],
   "toc_visible": true
  },
  "kernelspec": {
   "display_name": "Python 3",
   "language": "python",
   "name": "python3"
  },
  "language_info": {
   "codemirror_mode": {
    "name": "ipython",
    "version": 3
   },
   "file_extension": ".py",
   "mimetype": "text/x-python",
   "name": "python",
   "nbconvert_exporter": "python",
   "pygments_lexer": "ipython3",
   "version": "3.6.9"
  },
  "toc-autonumbering": true,
  "toc-showmarkdowntxt": false,
  "toc-showtags": true
 },
 "nbformat": 4,
 "nbformat_minor": 4
}
